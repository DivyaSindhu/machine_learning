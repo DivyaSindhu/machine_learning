{
 "cells": [
  {
   "cell_type": "code",
   "execution_count": 1,
   "id": "a74b1e90",
   "metadata": {},
   "outputs": [],
   "source": [
    "%matplotlib inline\n",
    "import matplotlib.pyplot as plt\n",
    "\n",
    "from sklearn.datasets import load_digits"
   ]
  },
  {
   "cell_type": "code",
   "execution_count": 2,
   "id": "192a2f4b",
   "metadata": {},
   "outputs": [],
   "source": [
    "digits = load_digits()"
   ]
  },
  {
   "cell_type": "code",
   "execution_count": 3,
   "id": "667028e3",
   "metadata": {},
   "outputs": [
    {
     "data": {
      "text/plain": [
       "['DESCR', 'data', 'feature_names', 'frame', 'images', 'target', 'target_names']"
      ]
     },
     "execution_count": 3,
     "metadata": {},
     "output_type": "execute_result"
    }
   ],
   "source": [
    "dir(digits)"
   ]
  },
  {
   "cell_type": "code",
   "execution_count": 9,
   "id": "e0a9297c",
   "metadata": {},
   "outputs": [
    {
     "data": {
      "text/plain": [
       "array([ 0.,  0.,  5., 13.,  9.,  1.,  0.,  0.,  0.,  0., 13., 15., 10.,\n",
       "       15.,  5.,  0.,  0.,  3., 15.,  2.,  0., 11.,  8.,  0.,  0.,  4.,\n",
       "       12.,  0.,  0.,  8.,  8.,  0.,  0.,  5.,  8.,  0.,  0.,  9.,  8.,\n",
       "        0.,  0.,  4., 11.,  0.,  1., 12.,  7.,  0.,  0.,  2., 14.,  5.,\n",
       "       10., 12.,  0.,  0.,  0.,  0.,  6., 13., 10.,  0.,  0.,  0.])"
      ]
     },
     "execution_count": 9,
     "metadata": {},
     "output_type": "execute_result"
    }
   ],
   "source": [
    "digits.data[0]"
   ]
  },
  {
   "cell_type": "code",
   "execution_count": 10,
   "id": "db6b584f",
   "metadata": {},
   "outputs": [
    {
     "data": {
      "text/plain": [
       "<matplotlib.image.AxesImage at 0x290c42993a0>"
      ]
     },
     "execution_count": 10,
     "metadata": {},
     "output_type": "execute_result"
    },
    {
     "data": {
      "text/plain": [
       "<Figure size 432x288 with 0 Axes>"
      ]
     },
     "metadata": {},
     "output_type": "display_data"
    },
    {
     "data": {
      "image/png": "[encoded data removed]",
      "text/plain": [
       "<Figure size 288x288 with 1 Axes>"
      ]
     },
     "metadata": {
      "needs_background": "light"
     },
     "output_type": "display_data"
    }
   ],
   "source": [
    "plt.gray()\n",
    "\n",
    "plt.matshow(digits.images[0])"
   ]
  },
  {
   "cell_type": "code",
   "execution_count": 12,
   "id": "a4d29dc9",
   "metadata": {},
   "outputs": [
    {
     "data": {
      "text/plain": [
       "<Figure size 432x288 with 0 Axes>"
      ]
     },
     "metadata": {},
     "output_type": "display_data"
    },
    {
     "data": {
      "image/png": "[encoded data removed]",
      "text/plain": [
       "<Figure size 288x288 with 1 Axes>"
      ]
     },
     "metadata": {
      "needs_background": "light"
     },
     "output_type": "display_data"
    },
    {
     "data": {
      "image/png": "[encoded data removed]",
      "text/plain": [
       "<Figure size 288x288 with 1 Axes>"
      ]
     },
     "metadata": {
      "needs_background": "light"
     },
     "output_type": "display_data"
    },
    {
     "data": {
      "image/png": "[encoded data removed]",
      "text/plain": [
       "<Figure size 288x288 with 1 Axes>"
      ]
     },
     "metadata": {
      "needs_background": "light"
     },
     "output_type": "display_data"
    },
    {
     "data": {
      "image/png": "[encoded data removed]",
      "text/plain": [
       "<Figure size 288x288 with 1 Axes>"
      ]
     },
     "metadata": {
      "needs_background": "light"
     },
     "output_type": "display_data"
    },
    {
     "data": {
      "image/png": "[encoded data removed]",
      "text/plain": [
       "<Figure size 288x288 with 1 Axes>"
      ]
     },
     "metadata": {
      "needs_background": "light"
     },
     "output_type": "display_data"
    }
   ],
   "source": [
    "plt.gray()\n",
    "for i in range(5):\n",
    "    plt.matshow(digits.images[i])"
   ]
  },
  {
   "cell_type": "code",
   "execution_count": 13,
   "id": "7d1e7fb9",
   "metadata": {},
   "outputs": [
    {
     "data": {
      "text/plain": [
       "array([0, 1, 2, 3, 4])"
      ]
     },
     "execution_count": 13,
     "metadata": {},
     "output_type": "execute_result"
    }
   ],
   "source": [
    "digits.target[0:5]"
   ]
  },
  {
   "cell_type": "code",
   "execution_count": 14,
   "id": "bda16fa5",
   "metadata": {},
   "outputs": [],
   "source": [
    "from sklearn.model_selection import train_test_split"
   ]
  },
  {
   "cell_type": "code",
   "execution_count": 15,
   "id": "963a5cbf",
   "metadata": {},
   "outputs": [
    {
     "data": {
      "text/plain": [
       "[array([[ 0.,  3., 15., ...,  0.,  0.,  0.],\n",
       "        [ 0.,  0.,  0., ...,  3.,  0.,  0.],\n",
       "        [ 0.,  0.,  6., ...,  9.,  4.,  0.],\n",
       "        ...,\n",
       "        [ 0.,  0., 10., ...,  1.,  0.,  0.],\n",
       "        [ 0.,  0.,  1., ...,  4.,  0.,  0.],\n",
       "        [ 0.,  0.,  0., ...,  2.,  0.,  0.]]),\n",
       " array([[ 0.,  0.,  1., ...,  0.,  0.,  0.],\n",
       "        [ 0.,  0.,  3., ...,  1.,  0.,  0.],\n",
       "        [ 0.,  0.,  5., ..., 14.,  2.,  0.],\n",
       "        ...,\n",
       "        [ 0.,  0., 11., ...,  1.,  0.,  0.],\n",
       "        [ 0.,  0.,  1., ...,  9.,  0.,  0.],\n",
       "        [ 0.,  0.,  7., ...,  9.,  0.,  0.]]),\n",
       " array([5, 4, 9, ..., 5, 5, 4]),\n",
       " array([7, 0, 3, 4, 4, 1, 1, 4, 0, 0, 4, 0, 3, 7, 0, 2, 5, 1, 6, 0, 7, 3,\n",
       "        2, 0, 3, 5, 9, 8, 6, 0, 2, 7, 7, 7, 8, 9, 9, 5, 2, 3, 4, 8, 4, 8,\n",
       "        3, 1, 4, 5, 5, 4, 7, 4, 2, 7, 1, 2, 2, 0, 8, 9, 7, 2, 9, 7, 3, 4,\n",
       "        5, 1, 3, 5, 3, 7, 9, 8, 5, 9, 7, 6, 0, 8, 2, 7, 0, 5, 2, 1, 1, 1,\n",
       "        2, 2, 7, 2, 7, 4, 3, 2, 6, 1, 8, 6, 8, 2, 2, 4, 9, 2, 2, 2, 1, 2,\n",
       "        0, 3, 5, 4, 2, 1, 9, 8, 8, 7, 6, 1, 8, 4, 3, 1, 1, 1, 7, 4, 4, 3,\n",
       "        9, 6, 3, 0, 9, 8, 3, 5, 7, 0, 7, 1, 1, 8, 5, 4, 5, 2, 0, 4, 1, 6,\n",
       "        6, 1, 6, 3, 4, 6, 2, 4, 1, 0, 5, 9, 8, 9, 8, 5, 3, 9, 4, 1, 9, 8,\n",
       "        7, 6, 3, 5, 8, 3, 4, 9, 7, 4, 7, 6, 5, 2, 2, 2, 7, 1, 3, 6, 3, 4,\n",
       "        9, 6, 1, 6, 3, 4, 0, 7, 4, 7, 2, 4, 7, 9, 8, 2, 7, 7, 5, 0, 9, 2,\n",
       "        4, 8, 7, 2, 3, 7, 4, 7, 5, 2, 4, 1, 5, 5, 7, 1, 1, 3, 3, 2, 4, 0,\n",
       "        9, 4, 9, 1, 6, 6, 9, 7, 3, 4, 8, 1, 9, 1, 4, 5, 0, 6, 2, 1, 3, 4,\n",
       "        6, 9, 5, 3, 0, 2, 4, 5, 9, 6, 1, 3, 5, 1, 0, 1, 8, 0, 5, 7, 6, 8,\n",
       "        6, 0, 9, 0, 1, 8, 5, 4, 5, 8, 0, 6, 3, 8, 5, 9, 5, 4, 4, 0, 2, 6,\n",
       "        7, 6, 5, 8, 7, 3, 8, 8, 5, 0, 2, 5, 7, 8, 8, 0, 4, 8, 2, 1, 7, 3,\n",
       "        0, 4, 6, 6, 1, 7, 9, 8, 7, 4, 8, 8, 5, 3, 6, 7, 9, 5, 8, 6, 1, 0,\n",
       "        0, 2, 1, 2, 5, 6, 7, 1, 2, 3, 3, 0, 3, 8, 1, 9, 3, 9, 2, 3, 5, 9,\n",
       "        4, 2, 0, 6, 4, 5, 0, 6, 1, 3, 7, 8, 9, 1, 3, 2, 8, 3, 5, 0, 3, 9,\n",
       "        1, 2, 3, 3, 1, 0, 4, 2, 6, 8, 1, 1, 1, 0, 0, 8, 3, 5, 5, 8, 3, 5,\n",
       "        6, 8, 9, 2, 0, 6, 4, 9, 9, 5, 2, 2, 7, 7, 7, 3, 0, 9, 5, 5, 7, 1,\n",
       "        2, 1, 3, 3, 8, 6, 2, 9, 1, 9])]"
      ]
     },
     "execution_count": 15,
     "metadata": {},
     "output_type": "execute_result"
    }
   ],
   "source": [
    "train_test_split(digits.data, digits.target)"
   ]
  },
  {
   "cell_type": "code",
   "execution_count": 16,
   "id": "5386a968",
   "metadata": {},
   "outputs": [],
   "source": [
    "x_train, x_test, y_train, y_test = train_test_split(digits.data, digits.target)"
   ]
  },
  {
   "cell_type": "code",
   "execution_count": 17,
   "id": "5f92ce2c",
   "metadata": {},
   "outputs": [
    {
     "data": {
      "text/plain": [
       "array([[ 0.,  0.,  3., ...,  0.,  0.,  0.],\n",
       "       [ 0.,  0.,  9., ...,  3.,  0.,  0.],\n",
       "       [ 0.,  0.,  5., ...,  4.,  0.,  0.],\n",
       "       ...,\n",
       "       [ 0.,  1., 11., ..., 15., 11.,  0.],\n",
       "       [ 0.,  0.,  0., ..., 15., 10.,  0.],\n",
       "       [ 0.,  8., 16., ...,  0.,  0.,  0.]])"
      ]
     },
     "execution_count": 17,
     "metadata": {},
     "output_type": "execute_result"
    }
   ],
   "source": [
    "x_train"
   ]
  },
  {
   "cell_type": "code",
   "execution_count": 20,
   "id": "15c97bbc",
   "metadata": {},
   "outputs": [
    {
     "data": {
      "text/plain": [
       "1347"
      ]
     },
     "execution_count": 20,
     "metadata": {},
     "output_type": "execute_result"
    }
   ],
   "source": [
    "len(x_train)"
   ]
  },
  {
   "cell_type": "code",
   "execution_count": 21,
   "id": "9f5252d8",
   "metadata": {},
   "outputs": [
    {
     "data": {
      "text/plain": [
       "450"
      ]
     },
     "execution_count": 21,
     "metadata": {},
     "output_type": "execute_result"
    }
   ],
   "source": [
    "len(x_test)"
   ]
  },
  {
   "cell_type": "code",
   "execution_count": 22,
   "id": "cd614a39",
   "metadata": {},
   "outputs": [],
   "source": [
    "from sklearn.linear_model import LogisticRegression\n",
    "model = LogisticRegression()"
   ]
  },
  {
   "cell_type": "code",
   "execution_count": 23,
   "id": "02fa6931",
   "metadata": {},
   "outputs": [
    {
     "name": "stderr",
     "output_type": "stream",
     "text": [
      "C:\\Users\\HP\\anaconda3\\lib\\site-packages\\sklearn\\linear_model\\_logistic.py:814: ConvergenceWarning: lbfgs failed to converge (status=1):\n",
      "STOP: TOTAL NO. of ITERATIONS REACHED LIMIT.\n",
      "\n",
      "Increase the number of iterations (max_iter) or scale the data as shown in:\n",
      "    https://scikit-learn.org/stable/modules/preprocessing.html\n",
      "Please also refer to the documentation for alternative solver options:\n",
      "    https://scikit-learn.org/stable/modules/linear_model.html#logistic-regression\n",
      "  n_iter_i = _check_optimize_result(\n"
     ]
    },
    {
     "data": {
      "text/plain": [
       "LogisticRegression()"
      ]
     },
     "execution_count": 23,
     "metadata": {},
     "output_type": "execute_result"
    }
   ],
   "source": [
    "model.fit(x_train, y_train)"
   ]
  },
  {
   "cell_type": "code",
   "execution_count": 24,
   "id": "35c40fe6",
   "metadata": {},
   "outputs": [
    {
     "data": {
      "text/plain": [
       "0.96"
      ]
     },
     "execution_count": 24,
     "metadata": {},
     "output_type": "execute_result"
    }
   ],
   "source": [
    "model.score(x_test,y_test)"
   ]
  },
  {
   "cell_type": "code",
   "execution_count": 25,
   "id": "ddd0837d",
   "metadata": {},
   "outputs": [
    {
     "data": {
      "text/plain": [
       "array([1, 5, 3, 2, 5, 7, 5, 2, 0, 5, 4, 8, 2, 8, 6, 3, 0, 5, 8, 2, 9, 4,\n",
       "       9, 0, 9, 8, 1, 3, 8, 1, 9, 7, 9, 4, 7, 9, 4, 7, 3, 4, 2, 1, 0, 2,\n",
       "       9, 9, 8, 4, 9, 5, 3, 1, 5, 7, 2, 2, 5, 5, 3, 3, 7, 1, 2, 7, 9, 2,\n",
       "       6, 4, 6, 5, 8, 1, 2, 2, 6, 3, 7, 0, 7, 7, 4, 9, 3, 4, 8, 0, 0, 0,\n",
       "       6, 9, 0, 6, 9, 9, 3, 8, 7, 3, 4, 0, 9, 0, 8, 6, 6, 1, 1, 9, 6, 8,\n",
       "       9, 2, 4, 0, 5, 2, 4, 9, 4, 5, 2, 3, 9, 7, 5, 8, 2, 0, 1, 4, 3, 5,\n",
       "       4, 3, 0, 2, 6, 3, 0, 7, 9, 2, 8, 7, 1, 6, 4, 4, 8, 7, 2, 2, 2, 7,\n",
       "       1, 7, 6, 9, 0, 7, 7, 3, 9, 1, 9, 0, 2, 3, 9, 0, 9, 5, 7, 0, 9, 3,\n",
       "       1, 4, 0, 2, 7, 0, 5, 4, 4, 5, 9, 6, 6, 9, 2, 0, 2, 8, 8, 5, 5, 0,\n",
       "       4, 2, 6, 9, 6, 8, 6, 9, 2, 7, 4, 1, 8, 6, 2, 2, 0, 2, 7, 5, 4, 8,\n",
       "       4, 5, 5, 0, 6, 4, 7, 6, 4, 2, 8, 1, 3, 6, 3, 1, 1, 5, 7, 7, 6, 8,\n",
       "       5, 7, 4, 2, 7, 3, 5, 4, 4, 9, 0, 4, 6, 8, 4, 1, 5, 3, 7, 0, 9, 5,\n",
       "       3, 2, 3, 3, 1, 4, 1, 8, 6, 8, 6, 0, 4, 9, 7, 9, 9, 5, 8, 2, 5, 4,\n",
       "       3, 1, 1, 2, 9, 2, 2, 1, 6, 4, 3, 5, 4, 8, 7, 7, 4, 1, 6, 4, 2, 9,\n",
       "       9, 5, 5, 9, 0, 1, 4, 7, 8, 6, 3, 1, 0, 9, 5, 4, 4, 7, 6, 4, 4, 0,\n",
       "       7, 3, 1, 7, 7, 4, 0, 3, 0, 8, 1, 1, 5, 8, 7, 6, 6, 8, 2, 3, 0, 8,\n",
       "       9, 3, 9, 2, 1, 2, 7, 6, 9, 2, 8, 9, 7, 6, 8, 9, 0, 6, 0, 2, 9, 6,\n",
       "       4, 9, 9, 8, 6, 9, 9, 0, 5, 1, 3, 9, 2, 6, 7, 7, 9, 3, 8, 0, 0, 7,\n",
       "       1, 8, 2, 9, 3, 9, 8, 9, 2, 8, 0, 5, 9, 1, 1, 3, 2, 1, 2, 6, 6, 9,\n",
       "       9, 6, 9, 8, 5, 9, 2, 2, 5, 1, 2, 0, 3, 1, 8, 3, 6, 3, 8, 1, 2, 9,\n",
       "       9, 7, 2, 4, 8, 1, 1, 4, 4, 2])"
      ]
     },
     "execution_count": 25,
     "metadata": {},
     "output_type": "execute_result"
    }
   ],
   "source": [
    "model.predict(x_test)"
   ]
  },
  {
   "cell_type": "code",
   "execution_count": 27,
   "id": "5a740b48",
   "metadata": {},
   "outputs": [
    {
     "data": {
      "text/plain": [
       "<matplotlib.image.AxesImage at 0x290c5498460>"
      ]
     },
     "execution_count": 27,
     "metadata": {},
     "output_type": "execute_result"
    },
    {
     "data": {
      "image/png": "[encoded data removed]",
      "text/plain": [
       "<Figure size 288x288 with 1 Axes>"
      ]
     },
     "metadata": {
      "needs_background": "light"
     },
     "output_type": "display_data"
    }
   ],
   "source": [
    "plt.matshow(digits.images[67])"
   ]
  },
  {
   "cell_type": "code",
   "execution_count": 28,
   "id": "a0bc56d5",
   "metadata": {},
   "outputs": [
    {
     "data": {
      "text/plain": [
       "6"
      ]
     },
     "execution_count": 28,
     "metadata": {},
     "output_type": "execute_result"
    }
   ],
   "source": [
    "digits.target[67]"
   ]
  },
  {
   "cell_type": "code",
   "execution_count": 29,
   "id": "47043d40",
   "metadata": {},
   "outputs": [
    {
     "data": {
      "text/plain": [
       "array([6])"
      ]
     },
     "execution_count": 29,
     "metadata": {},
     "output_type": "execute_result"
    }
   ],
   "source": [
    "model.predict([digits.data[67]])"
   ]
  },
  {
   "cell_type": "code",
   "execution_count": 31,
   "id": "24bf8f7c",
   "metadata": {},
   "outputs": [
    {
     "data": {
      "text/plain": [
       "array([0, 1, 2, 3, 4])"
      ]
     },
     "execution_count": 31,
     "metadata": {},
     "output_type": "execute_result"
    }
   ],
   "source": [
    "model.predict(digits.data[0:5])"
   ]
  },
  {
   "cell_type": "code",
   "execution_count": 37,
   "id": "6f851e92",
   "metadata": {},
   "outputs": [],
   "source": [
    "y_predicted = model.predict(x_test)\n",
    "\n"
   ]
  },
  {
   "cell_type": "code",
   "execution_count": 44,
   "id": "1bc96b9e",
   "metadata": {},
   "outputs": [
    {
     "name": "stdout",
     "output_type": "stream",
     "text": [
      "Requirement already satisfied: scikit-learn in c:\\users\\hp\\anaconda3\\lib\\site-packages (1.0.2)\n",
      "Requirement already satisfied: joblib>=0.11 in c:\\users\\hp\\anaconda3\\lib\\site-packages (from scikit-learn) (1.1.0)\n",
      "Requirement already satisfied: scipy>=1.1.0 in c:\\users\\hp\\anaconda3\\lib\\site-packages (from scikit-learn) (1.7.3)\n",
      "Requirement already satisfied: numpy>=1.14.6 in c:\\users\\hp\\anaconda3\\lib\\site-packages (from scikit-learn) (1.21.5)\n",
      "Requirement already satisfied: threadpoolctl>=2.0.0 in c:\\users\\hp\\anaconda3\\lib\\site-packages (from scikit-learn) (2.2.0)\n"
     ]
    }
   ],
   "source": [
    "!pip install scikit-learn"
   ]
  },
  {
   "cell_type": "code",
   "execution_count": 46,
   "id": "2733edec",
   "metadata": {},
   "outputs": [],
   "source": [
    "from sklearn.metrics import confusion_matrix\n"
   ]
  },
  {
   "cell_type": "code",
   "execution_count": 47,
   "id": "dbd55060",
   "metadata": {},
   "outputs": [
    {
     "data": {
      "text/plain": [
       "array([[40,  0,  0,  0,  0,  0,  0,  0,  0,  0],\n",
       "       [ 0, 37,  0,  0,  0,  0,  0,  0,  1,  1],\n",
       "       [ 0,  1, 54,  0,  0,  0,  0,  0,  0,  0],\n",
       "       [ 0,  0,  0, 38,  0,  1,  0,  0,  0,  0],\n",
       "       [ 1,  0,  0,  0, 48,  0,  0,  1,  1,  1],\n",
       "       [ 0,  0,  0,  0,  0, 37,  1,  0,  0,  2],\n",
       "       [ 0,  0,  0,  0,  0,  0, 40,  0,  1,  0],\n",
       "       [ 0,  0,  0,  1,  0,  0,  0, 43,  0,  0],\n",
       "       [ 0,  3,  0,  0,  0,  0,  0,  0, 39,  2],\n",
       "       [ 0,  0,  0,  0,  0,  0,  0,  0,  0, 56]], dtype=int64)"
      ]
     },
     "execution_count": 47,
     "metadata": {},
     "output_type": "execute_result"
    }
   ],
   "source": [
    "cm = confusion_matrix(y_test, y_predicted)\n",
    "cm"
   ]
  },
  {
   "cell_type": "markdown",
   "id": "b5cf13e6",
   "metadata": {},
   "source": [
    "confusion matrix visualization as follow:\n",
    "it will tell how well our model is working"
   ]
  },
  {
   "cell_type": "code",
   "execution_count": 48,
   "id": "4e3709e4",
   "metadata": {},
   "outputs": [
    {
     "data": {
      "text/plain": [
       "Text(69.0, 0.5, 'Truth')"
      ]
     },
     "execution_count": 48,
     "metadata": {},
     "output_type": "execute_result"
    },
    {
     "data": {
      "image/png": "[encoded data removed]",
      "text/plain": [
       "<Figure size 720x504 with 2 Axes>"
      ]
     },
     "metadata": {
      "needs_background": "light"
     },
     "output_type": "display_data"
    }
   ],
   "source": [
    "import seaborn as sn\n",
    "plt.figure(figsize = (10,7))\n",
    "sn.heatmap(cm, annot=True)\n",
    "plt.xlabel('Predicted')\n",
    "plt.ylabel('Truth')"
   ]
  },
  {
   "cell_type": "markdown",
   "id": "621ff8d9",
   "metadata": {},
   "source": [
    "0 means model is working right"
   ]
  }
 ],
 "metadata": {
  "kernelspec": {
   "display_name": "Python 3 (ipykernel)",
   "language": "python",
   "name": "python3"
  },
  "language_info": {
   "codemirror_mode": {
    "name": "ipython",
    "version": 3
   },
   "file_extension": ".py",
   "mimetype": "text/x-python",
   "name": "python",
   "nbconvert_exporter": "python",
   "pygments_lexer": "ipython3",
   "version": "3.9.12"
  }
 },
 "nbformat": 4,
 "nbformat_minor": 5
}
